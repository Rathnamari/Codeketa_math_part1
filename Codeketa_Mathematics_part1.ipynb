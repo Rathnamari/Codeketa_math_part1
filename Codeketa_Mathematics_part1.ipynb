{
 "cells": [
  {
   "cell_type": "markdown",
   "id": "9ada23d0-0ef1-41b9-afe0-63fa7eafc5ae",
   "metadata": {},
   "source": [
    "\n",
    "You are given a task to tell whether the number is pure or not. A pure number is a number whose sum of digits is multiple of 3.\r\n",
    "\r\n",
    "O(1) time and O(1) space\r\n",
    "\r\n",
    "Input Description:\r\n",
    "You are given a number n.\r\n",
    "\r\n",
    "Output Description:\r\n",
    "Print yes if it is pure else not\r\n",
    "\r\n",
    "Sample Input :\r\n",
    "13\r\n",
    "Sample Output :\r\n",
    "not"
   ]
  },
  {
   "cell_type": "code",
   "execution_count": 1,
   "id": "aff32d6d-10fa-4f40-8c5c-478e5ca325e4",
   "metadata": {},
   "outputs": [
    {
     "name": "stdin",
     "output_type": "stream",
     "text": [
      " 13\n"
     ]
    },
    {
     "name": "stdout",
     "output_type": "stream",
     "text": [
      "not\n"
     ]
    }
   ],
   "source": [
    "#Solution\n",
    "n = input()\n",
    "sum = 0\n",
    "for i in n:\n",
    "  sum = sum + int(i)\n",
    "if sum%3 == 0:\n",
    "  print(\"yes\")\n",
    "else:\n",
    "  print(\"not\")"
   ]
  },
  {
   "cell_type": "markdown",
   "id": "2636b48a-7e1d-4788-a925-a086353f7063",
   "metadata": {},
   "source": [
    "Given a number N, print yes if the number is a multiple of 7 else print no.\r\n",
    "Sample Testcase :\r\n",
    "INPUT\r\n",
    "49\r\n",
    "OUTPUT\r\n",
    "yes"
   ]
  },
  {
   "cell_type": "code",
   "execution_count": 2,
   "id": "5fbf84aa-4265-4724-a808-25f9ce9351e3",
   "metadata": {},
   "outputs": [
    {
     "name": "stdin",
     "output_type": "stream",
     "text": [
      " 49\n"
     ]
    },
    {
     "name": "stdout",
     "output_type": "stream",
     "text": [
      "yes\n"
     ]
    }
   ],
   "source": [
    "#solution\n",
    "N = int(input())\n",
    "if N % 7 == 0:\n",
    "    print('yes')\n",
    "else:\n",
    "    print('no')"
   ]
  },
  {
   "cell_type": "markdown",
   "id": "d833ae09-a4d0-4df7-a08c-a0fb8a6cac31",
   "metadata": {},
   "source": [
    "Find the minimum among 10 numbers.\n",
    "Sample Testcase :\n",
    "INPUT\n",
    "5 4 3 2 1 7 6 10 8 9\n",
    "OUTPUT\n",
    "1"
   ]
  },
  {
   "cell_type": "code",
   "execution_count": 3,
   "id": "027957e1-03b2-4bb1-8253-2f242f3c757f",
   "metadata": {},
   "outputs": [
    {
     "name": "stdin",
     "output_type": "stream",
     "text": [
      " 5 4 3 2 1 7 6 10 8 9\n"
     ]
    },
    {
     "name": "stdout",
     "output_type": "stream",
     "text": [
      "1\n"
     ]
    }
   ],
   "source": [
    "#solution\n",
    "a = input().split()\n",
    "print(min(a))"
   ]
  },
  {
   "cell_type": "markdown",
   "id": "70777e39-a060-4dbb-9391-8abb2576659e",
   "metadata": {},
   "source": [
    "You are provided with a number ’n’. Your task is to tell whether that number is saturated. A saturated number is a number which is made by exactly two digits.\n",
    "\n",
    "Input Description:\n",
    "You are given with a number n.\n",
    "\n",
    "Output Description:\n",
    "Print Saturated if it is saturated else it is Unsaturated\n",
    "\n",
    "Sample Input :\n",
    "121\n",
    "Sample Output :\n",
    "Saturated"
   ]
  },
  {
   "cell_type": "code",
   "execution_count": 4,
   "id": "44894adf-b87c-4cc4-8ffa-2a9bd409744f",
   "metadata": {},
   "outputs": [
    {
     "name": "stdin",
     "output_type": "stream",
     "text": [
      " 121\n"
     ]
    },
    {
     "name": "stdout",
     "output_type": "stream",
     "text": [
      "Saturated\n"
     ]
    }
   ],
   "source": [
    "#solution\n",
    "a = input()\n",
    "b = []\n",
    "for i in a:\n",
    "  b.append(int(i))\n",
    "\n",
    "c = set(b)\n",
    "\n",
    "if len(c)==2 :\n",
    "  print('Saturated')\n",
    "else:\n",
    "  print(\"Unsaturated\")"
   ]
  },
  {
   "cell_type": "markdown",
   "id": "c89dc1d0-a50e-47aa-8435-76e4bfd796a6",
   "metadata": {},
   "source": [
    "A person saves his monthly saving according to given schema. He saves same amount of money which is equal to the money saved in immediate previous two months. Assume, initially he saved 1000 rupees and in first month he saved another 1000. Your task is to tell how much he had totally saved at the end of ‘n’ months\r\n",
    "\r\n",
    "Input Description:\r\n",
    "You will be given a number ‘n’->No. of months\r\n",
    "\r\n",
    "Output Description:\r\n",
    "Print the total savings at the end of ‘n’ months\r\n",
    "\r\n",
    "Sample Input :\r\n",
    "1\r\n",
    "Sample Output :\r\n",
    "2000"
   ]
  },
  {
   "cell_type": "code",
   "execution_count": 5,
   "id": "e7fdb29a-b335-4d4e-87a1-a14ae5475459",
   "metadata": {},
   "outputs": [
    {
     "name": "stdin",
     "output_type": "stream",
     "text": [
      " 1\n"
     ]
    },
    {
     "name": "stdout",
     "output_type": "stream",
     "text": [
      "2000\n"
     ]
    }
   ],
   "source": [
    "n = int(input())\n",
    "t = 1000\n",
    "for i in range(1,n+1):\n",
    "  i = i * 1000\n",
    "  t = t + i\n",
    "print(t)"
   ]
  },
  {
   "cell_type": "markdown",
   "id": "afcf087d-8621-4c77-bb29-078db0c0d025",
   "metadata": {},
   "source": [
    "Given 3 numbers N , L and R. Print 'yes' if N is between L and R else print 'no'.\r\n",
    "Sample Testcase :\r\n",
    "INPUT\r\n",
    "3\r\n",
    "2 6\r\n",
    "OUTPUT\r\n",
    "yes"
   ]
  },
  {
   "cell_type": "code",
   "execution_count": 6,
   "id": "cb64b2c6-8d71-4cf9-b900-fa0291544cab",
   "metadata": {},
   "outputs": [
    {
     "name": "stdin",
     "output_type": "stream",
     "text": [
      " 3\n",
      " 2 6\n"
     ]
    },
    {
     "name": "stdout",
     "output_type": "stream",
     "text": [
      "yes\n"
     ]
    }
   ],
   "source": [
    "#solution\n",
    "N = int(input())\n",
    "L,R = list(map(int,input().split()))\n",
    "if L < N and N > R  or R > N and N > L:\n",
    "   print('yes')\n",
    "else:\n",
    "    print('no')"
   ]
  },
  {
   "cell_type": "markdown",
   "id": "7d66df3b-bcc9-4d24-a861-8cd6c51b4955",
   "metadata": {},
   "source": [
    "Given a number N, print the odd digits in the number(space seperated) or print -1 if there is no odd digit in the given number.\r\n",
    "Input Size : N <= 100000\r\n",
    "Sample Testcase :\r\n",
    "INPUT\r\n",
    "2143\r\n",
    "OUTPUT\r\n",
    "1 3"
   ]
  },
  {
   "cell_type": "code",
   "execution_count": 9,
   "id": "11465443-c857-4f89-9c60-c97dce93cd1e",
   "metadata": {},
   "outputs": [
    {
     "name": "stdin",
     "output_type": "stream",
     "text": [
      " 2143\n"
     ]
    },
    {
     "name": "stdout",
     "output_type": "stream",
     "text": [
      "1 3\n"
     ]
    }
   ],
   "source": [
    "#solution\n",
    "N = input()\n",
    "a = []\n",
    "for i in N:\n",
    "  b = int(i)\n",
    "  if b%2 == 0:\n",
    "    pass\n",
    "  else:\n",
    "    a.append(i)\n",
    "if len(a) > 0:\n",
    "  print(*a)\n",
    "else:\n",
    "  print(-1)"
   ]
  },
  {
   "cell_type": "markdown",
   "id": "0ee3b9c5-fd6d-4b45-99d4-bef1bb1a36a0",
   "metadata": {},
   "source": [
    "You are given a number ‘n’. You have to tell whether a number is great or not. A great number is a number whose sum of digits let (m) and \n",
    "product of digits let(j) when summed together gives the number back\n",
    "\n",
    "m+j=n\n",
    "\n",
    " \n",
    "\n",
    "Input Description:\n",
    "You are given a number n;\n",
    "\n",
    "Output Description:\n",
    "Print Great if a number is great else print the no\n",
    "\n",
    "Sample Input :\n",
    "59\n",
    "Sample Output :\n",
    "Great"
   ]
  },
  {
   "cell_type": "code",
   "execution_count": 10,
   "id": "6c48b17b-e90f-448c-97b2-e279e3f34c68",
   "metadata": {},
   "outputs": [
    {
     "name": "stdin",
     "output_type": "stream",
     "text": [
      " 59\n"
     ]
    },
    {
     "name": "stdout",
     "output_type": "stream",
     "text": [
      "Great\n"
     ]
    }
   ],
   "source": [
    "#solution\n",
    "n = int(input())\n",
    "b = str(n)\n",
    "a = []\n",
    "m = 0\n",
    "j = 1\n",
    "for i in b:\n",
    "  a.append(int(i))\n",
    "for i in a:\n",
    "  m = m + i\n",
    "for i in a:\n",
    "  j = j * i\n",
    "S = m + j\n",
    "if n == S:\n",
    "  print(\"Great\")\n",
    "else:\n",
    "  print(\"no\")"
   ]
  },
  {
   "cell_type": "markdown",
   "id": "298ad1e2-d142-4154-96e7-ede71fdf4d09",
   "metadata": {},
   "source": [
    "Simi is learning about palindromic numbers. Her teacher gave him the task to count all palindromic numbers present in that range.Simi has told you about this and want your help. You design an algorithm in order to help simi.\n",
    "\n",
    "Input Description:\n",
    "You will be given a number ‘n’\n",
    "\n",
    "Output Description:\n",
    "Print the count of all palindromic numbers till ‘n’(inclusive)\n",
    "\n",
    "Sample Input :\n",
    "5\n",
    "Sample Output :\n",
    "5"
   ]
  },
  {
   "cell_type": "code",
   "execution_count": 11,
   "id": "6a6f4cad-299d-4581-aa5e-700bf7229e64",
   "metadata": {},
   "outputs": [
    {
     "name": "stdin",
     "output_type": "stream",
     "text": [
      " 5\n"
     ]
    },
    {
     "name": "stdout",
     "output_type": "stream",
     "text": [
      "5\n"
     ]
    }
   ],
   "source": [
    "#Solution\n",
    "n = int(input())\n",
    "a = []\n",
    "for i in range(1,(n+1)):\n",
    "    l = str(i)\n",
    "    if l == l[::-1]:\n",
    "        a.append(l)\n",
    "    else:\n",
    "        pass\n",
    "print(len(a))"
   ]
  },
  {
   "cell_type": "markdown",
   "id": "56f80d13-9abb-40ea-b293-75d64979f991",
   "metadata": {},
   "source": [
    "Given 2 numbers N,M. Find their difference and check whether it is even or odd.\n",
    "Sample Testcase :\n",
    "INPUT\n",
    "5 5\n",
    "OUTPUT\n",
    "even"
   ]
  },
  {
   "cell_type": "code",
   "execution_count": 12,
   "id": "5ea87a92-af29-4319-ae44-3d4c47cb5d86",
   "metadata": {},
   "outputs": [
    {
     "name": "stdin",
     "output_type": "stream",
     "text": [
      " 5 5\n"
     ]
    },
    {
     "name": "stdout",
     "output_type": "stream",
     "text": [
      "even\n"
     ]
    }
   ],
   "source": [
    "N,M = list(map(int,input().split()))\n",
    "L = N - M\n",
    "K = abs(L)\n",
    "if K%2 == 0:\n",
    "    print(\"even\")\n",
    "else:\n",
    "    print(\"odd\")"
   ]
  },
  {
   "cell_type": "markdown",
   "id": "36eaa5ac-e05d-473b-8bd0-d8e96fe544df",
   "metadata": {},
   "source": [
    "Write a program to print the sum of the first K natural numbers.\n",
    "Input Size : n <= 100000\n",
    "Sample Testcase :\n",
    "INPUT\n",
    "3\n",
    "OUTPUT\n",
    "6"
   ]
  },
  {
   "cell_type": "code",
   "execution_count": 13,
   "id": "472f4ffb-08bf-496b-9762-89cdb789af29",
   "metadata": {},
   "outputs": [
    {
     "name": "stdin",
     "output_type": "stream",
     "text": [
      " 3\n"
     ]
    },
    {
     "name": "stdout",
     "output_type": "stream",
     "text": [
      "6\n"
     ]
    }
   ],
   "source": [
    "N = int(input())\n",
    "sum = 0\n",
    "for i in range(1, N+1):\n",
    "    sum = sum + i\n",
    "print(sum)"
   ]
  },
  {
   "cell_type": "markdown",
   "id": "15406f98-a26a-4392-9c7e-c8f2c2833af3",
   "metadata": {},
   "source": [
    "You are given an array of numbers. Print the least occurring element. If there is more than 1 element print all of them in decreasing order of their value.\n",
    "\n",
    "Input Description:\n",
    "You are given a number ‘n’ denoting size of array. Next line contains n space separated numbers.\n",
    "\n",
    "Output Description:\n",
    "Print the number as mentioned\n",
    "\n",
    "Sample Input :\n",
    "9\n",
    "1 6 4 56 56 56 6 4 2\n",
    "Sample Output :\n",
    "2 1"
   ]
  },
  {
   "cell_type": "code",
   "execution_count": 14,
   "id": "23f2a95b-bf5c-4440-a322-5ad04adeb8b2",
   "metadata": {},
   "outputs": [
    {
     "name": "stdin",
     "output_type": "stream",
     "text": [
      " 9\n",
      " 1 6 4 56 56 56 6 4 2\n"
     ]
    },
    {
     "name": "stdout",
     "output_type": "stream",
     "text": [
      "2 1\n"
     ]
    }
   ],
   "source": [
    "n = int(input())\n",
    "a = list(map(int,input().split()))\n",
    "b = []\n",
    "c = []\n",
    "for i in a:\n",
    "    if i not in b:\n",
    "        b.append(i)\n",
    "        c.append(a.count(i))\n",
    "k = min(c)\n",
    "m = []\n",
    "for i,j in enumerate(c):\n",
    "    if j == k:\n",
    "      m.append(b[i])\n",
    "m.sort(reverse = True)\n",
    "print(*m)"
   ]
  },
  {
   "cell_type": "markdown",
   "id": "06ed7b61-c723-4ed4-9dc1-a09af27c6c7a",
   "metadata": {},
   "source": [
    "Pk finds it difficult to judge the minimum element in the list of elements given to him. Your task is to develop the algorithm in order to find the minimum element. \r\n",
    "\r\n",
    "Note:Don’t use sorg\r\n",
    " \r\n",
    "\r\n",
    "Input Description:\r\n",
    "You are given ‘n’ number of elements. Next line contains n space separated umbers.\r\n",
    "\r\n",
    "Output Description:\r\n",
    "Print the minimum element\r\n",
    "\r\n",
    "Sample Input :\r\n",
    "5\r\n",
    "3 4 9 1 6\r\n",
    "Sample Output :\r\n",
    "1"
   ]
  },
  {
   "cell_type": "code",
   "execution_count": 15,
   "id": "8e35cf6e-5571-4100-aedf-bf367e6fc680",
   "metadata": {},
   "outputs": [
    {
     "name": "stdin",
     "output_type": "stream",
     "text": [
      " 5\n",
      " 3 4 9 1 6\n"
     ]
    },
    {
     "name": "stdout",
     "output_type": "stream",
     "text": [
      "1\n"
     ]
    }
   ],
   "source": [
    "n = int(input())\n",
    "b = []\n",
    "a = list(map(int,input().split()))\n",
    "for i in a:\n",
    "  b.append(i)\n",
    "print(min(b))"
   ]
  },
  {
   "cell_type": "markdown",
   "id": "ef1f63d2-ba62-4ddd-88fb-240b676c28ec",
   "metadata": {},
   "source": [
    "Given 3 numbers a,b,c print a*b mod c.\r\n",
    "Sample Testcase :\r\n",
    "INPUT\r\n",
    "5 3 2\r\n",
    "OUTPUT\r\n",
    "1"
   ]
  },
  {
   "cell_type": "code",
   "execution_count": 16,
   "id": "59bcb305-71ad-4999-a535-758c7672dae5",
   "metadata": {},
   "outputs": [
    {
     "name": "stdin",
     "output_type": "stream",
     "text": [
      " 5 3 2\n"
     ]
    },
    {
     "name": "stdout",
     "output_type": "stream",
     "text": [
      "1\n"
     ]
    }
   ],
   "source": [
    "a,b,c = input().split()\n",
    "d = int(a)*int(b)\n",
    "l = d%int(c)\n",
    "print(l)"
   ]
  },
  {
   "cell_type": "markdown",
   "id": "cd52aac3-1d44-4947-924a-fb4cc58424f9",
   "metadata": {},
   "source": [
    " You are given a ‘true’ string. String is called true if weight of string is multiple of 8. Your task is to tell whether a string can be declared True or Not. Weight of string is the sum of ASCII value of Vowel character(s) present in the string.\n",
    "\n",
    "Input Description:\n",
    "You are given as string ‘s’ in lower cases\n",
    "\n",
    "Output Description:\n",
    "Print 1 for true and 0 for false\n",
    "\n",
    "Sample Input :\n",
    "raja\n",
    "Sample Output :\n",
    "0"
   ]
  },
  {
   "cell_type": "code",
   "execution_count": 17,
   "id": "a43780f7-4566-456d-83e0-c8857fa0d7d4",
   "metadata": {},
   "outputs": [
    {
     "name": "stdin",
     "output_type": "stream",
     "text": [
      " raja\n"
     ]
    },
    {
     "name": "stdout",
     "output_type": "stream",
     "text": [
      "0\n"
     ]
    }
   ],
   "source": [
    "s = input()\n",
    "a = []\n",
    "l = 0\n",
    "for i in s:\n",
    "    a.append(ord(i))\n",
    "for i in a:\n",
    "    l = l + i\n",
    "if l % 8 == 0:\n",
    "    print(1)\n",
    "else:\n",
    "    print(0)"
   ]
  },
  {
   "cell_type": "code",
   "execution_count": null,
   "id": "d82b1cb8-57f7-499b-91a5-f5d29d78dda4",
   "metadata": {},
   "outputs": [],
   "source": []
  }
 ],
 "metadata": {
  "kernelspec": {
   "display_name": "Python 3 (ipykernel)",
   "language": "python",
   "name": "python3"
  },
  "language_info": {
   "codemirror_mode": {
    "name": "ipython",
    "version": 3
   },
   "file_extension": ".py",
   "mimetype": "text/x-python",
   "name": "python",
   "nbconvert_exporter": "python",
   "pygments_lexer": "ipython3",
   "version": "3.10.0"
  }
 },
 "nbformat": 4,
 "nbformat_minor": 5
}
